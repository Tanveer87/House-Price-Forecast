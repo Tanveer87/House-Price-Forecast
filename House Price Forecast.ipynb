{
 "cells": [
  {
   "cell_type": "code",
   "execution_count": 1,
   "metadata": {
    "_cell_guid": "b1076dfc-b9ad-4769-8c92-a6c4dae69d19",
    "_uuid": "8f2839f25d086af736a60e9eeb907d3b93b6e0e5",
    "execution": {
     "iopub.execute_input": "2021-08-15T04:41:34.413325Z",
     "iopub.status.busy": "2021-08-15T04:41:34.412948Z",
     "iopub.status.idle": "2021-08-15T04:41:34.485724Z",
     "shell.execute_reply": "2021-08-15T04:41:34.484548Z",
     "shell.execute_reply.started": "2021-08-15T04:41:34.413234Z"
    },
    "pycharm": {
     "is_executing": true
    }
   },
   "outputs": [
    {
     "name": "stdout",
     "output_type": "stream",
     "text": [
      "['emanhamed-Houses-dataset-41e7392']\n"
     ]
    }
   ],
   "source": [
    "# This Python 3 environment comes with many helpful analytics libraries installed\n",
    "# It is defined by the kaggle/python docker image: https://github.com/kaggle/docker-python\n",
    "# For example, here's several helpful packages to load in \n",
    "\n",
    "import numpy as np # linear algebra\n",
    "import pandas as pd # data processing, CSV file I/O (e.g. pd.read_csv)\n",
    "\n",
    "# Input data files are available in the \"../input/\" directory.\n",
    "# For example, running this (by clicking run or pressing Shift+Enter) will list the files in the input directory\n",
    "\n",
    "import os\n",
    "print(os.listdir(\"G:/PDF document/UAP Semester/for 4-1/CSE 410(Software Developement)/House Price Forecast/repository\"))\n",
    "\n",
    "# Any results you write to the current directory are saved as output."
   ]
  },
  {
   "cell_type": "markdown",
   "metadata": {
    "_cell_guid": "79c7e3d0-c299-4dcb-8224-4455121ee9b0",
    "_uuid": "d629ff2d2480ee46fbb7e2d37f6b5fab8052498a"
   },
   "source": [
    "Lets get Started \n",
    "\n",
    "Thanks to @Adrian Pyimagesearch\n",
    "\n",
    "The dataset we’re using for this series of tutorials was curated by Ahmed and Moustafa in their 2016 paper, House price estimation from visual and textual features.\n",
    "\n",
    "Predicting house prices…with images?\n",
    "![framework](https://www.pyimagesearch.com/wp-content/uploads/2019/01/keras_regression_cnns_flow-551x1024.jpg)"
   ]
  },
  {
   "cell_type": "markdown",
   "metadata": {
    "_uuid": "1c3e66914dea70e7c855209bbb2e97782aee3128"
   },
   "source": [
    "this is the first publicly available dataset that includes both numerical/categorical attributes along with images.\n",
    "\n",
    "The numerical and categorical attributes include:\n",
    "\n",
    "    Number of bedrooms\n",
    "    Number of bathrooms\n",
    "    Area (i.e., square footage)\n",
    "    Zip code\n",
    "\n",
    "Four images of each house are also provided:\n",
    "\n",
    "    Bedroom\n",
    "    Bathroom\n",
    "    Kitchen\n",
    "    Frontal view of the house\n",
    "\n",
    "A total of 535 houses are included in the dataset, therefore there are 535 x 4 = 2,140 total images in the dataset.\n",
    "\n",
    "We’ll be pruning that number down to 362 houses (1,448 images) during our data cleaning."
   ]
  },
  {
   "cell_type": "markdown",
   "metadata": {
    "_uuid": "e6effeaaedda5450de4fbdeb51b356ff401f12ae"
   },
   "source": [
    "Loading the house prices image dataset\n",
    "![house](https://www.pyimagesearch.com/wp-content/uploads/2019/01/keras_regression_cnns_houses.jpg)"
   ]
  },
  {
   "cell_type": "markdown",
   "metadata": {
    "_uuid": "84cf899098d60e2f2150d71b5092d8e6eedfca2d"
   },
   "source": [
    "our house prices dataset includes four images associated with each house:\n",
    "\n",
    "    Bedroom\n",
    "    Bathroom\n",
    "    Kitchen\n",
    "    Frontal view of the house\n"
   ]
  },
  {
   "cell_type": "markdown",
   "metadata": {
    "_uuid": "1de2c99d0926c994d5f14ba885d2424baf3011e5"
   },
   "source": [
    "For each house in our dataset, we will create a corresponding tiled image that that includes:\n",
    "\n",
    "    The bathroom image in the top-left\n",
    "    The bedroom image in the top-right\n",
    "    The frontal view in the bottom-right\n",
    "    The kitchen in the bottom-left\n",
    "\n",
    "This tiled image will then be passed through the CNN using the house price as the target predicted value."
   ]
  },
  {
   "cell_type": "markdown",
   "metadata": {
    "_uuid": "175c610a64faf86ce7ab74ddb84094558aff278e"
   },
   "source": [
    "* To learn how we can title the images for each house, let’s take a look at the load_house_images  function"
   ]
  },
  {
   "cell_type": "code",
   "execution_count": 2,
   "metadata": {
    "_uuid": "6a0c6f99075c0209fb907eb6480474da3ec94abe",
    "execution": {
     "iopub.execute_input": "2021-08-15T04:41:34.513149Z",
     "iopub.status.busy": "2021-08-15T04:41:34.512813Z",
     "iopub.status.idle": "2021-08-15T04:41:36.056558Z",
     "shell.execute_reply": "2021-08-15T04:41:36.055420Z",
     "shell.execute_reply.started": "2021-08-15T04:41:34.513095Z"
    },
    "pycharm": {
     "is_executing": true
    }
   },
   "outputs": [],
   "source": [
    "# import the necessary packages\n",
    "from sklearn.preprocessing import LabelBinarizer\n",
    "from sklearn.preprocessing import MinMaxScaler\n",
    "import pandas as pd\n",
    "import numpy as np\n",
    "import glob\n",
    "import cv2\n",
    "import os\n",
    "\n",
    "def load_house_attributes(inputPath):\n",
    "\t# initialize the list of column names in the CSV file and then\n",
    "\t# load it using Pandas\n",
    "\tcols = [\"bedrooms\", \"bathrooms\", \"area\", \"zipcode\", \"price\"]\n",
    "\tdf = pd.read_csv(inputPath, sep=\" \", header=None, names=cols)\n",
    "\n",
    "\t# determine (1) the unique zip codes and (2) the number of data\n",
    "\t# points with each zip code\n",
    "\tzipcodes = df[\"zipcode\"].value_counts().keys().tolist()\n",
    "\tcounts = df[\"zipcode\"].value_counts().tolist()\n",
    "\n",
    "\t# loop over each of the unique zip codes and their corresponding\n",
    "\t# count\n",
    "\tfor (zipcode, count) in zip(zipcodes, counts):\n",
    "\t\t# the zip code counts for our housing dataset is *extremely*\n",
    "\t\t# unbalanced (some only having 1 or 2 houses per zip code)\n",
    "\t\t# so let's sanitize our data by removing any houses with less\n",
    "\t\t# than 25 houses per zip code\n",
    "\t\tif count < 25:\n",
    "\t\t\tidxs = df[df[\"zipcode\"] == zipcode].index\n",
    "\t\t\tdf.drop(idxs, inplace=True)\n",
    "\n",
    "\t# return the data frame\n",
    "\treturn df\n",
    "\n",
    "def process_house_attributes(df, train, test):\n",
    "\t# initialize the column names of the continuous data\n",
    "\tcontinuous = [\"bedrooms\", \"bathrooms\", \"area\"]\n",
    "\n",
    "\t# performin min-max scaling each continuous feature column to\n",
    "\t# the range [0, 1]\n",
    "\tcs = MinMaxScaler()\n",
    "\ttrainContinuous = cs.fit_transform(train[continuous])\n",
    "\ttestContinuous = cs.transform(test[continuous])\n",
    "\n",
    "\t# one-hot encode the zip code categorical data (by definition of\n",
    "\t# one-hot encoing, all output features are now in the range [0, 1])\n",
    "\tzipBinarizer = LabelBinarizer().fit(df[\"zipcode\"])\n",
    "\ttrainCategorical = zipBinarizer.transform(train[\"zipcode\"])\n",
    "\ttestCategorical = zipBinarizer.transform(test[\"zipcode\"])\n",
    "\n",
    "\t# construct our training and testing data points by concatenating\n",
    "\t# the categorical features with the continuous features\n",
    "\ttrainX = np.hstack([trainCategorical, trainContinuous])\n",
    "\ttestX = np.hstack([testCategorical, testContinuous])\n",
    "\n",
    "\t# return the concatenated training and testing data\n",
    "\treturn (trainX, testX)\n",
    "\n",
    "def load_house_images(df, inputPath):\n",
    "\t# initialize our images array (i.e., the house images themselves)\n",
    "\timages = []\n",
    "\n",
    "\t# loop over the indexes of the houses\n",
    "\tfor i in df.index.values:\n",
    "\t\t# find the four images for the house and sort the file paths,\n",
    "\t\t# ensuring the four are always in the *same order*\n",
    "\t\tbasePath = os.path.sep.join([inputPath, \"{}_*\".format(i + 1)])\n",
    "\t\thousePaths = sorted(list(glob.glob(basePath)))\n",
    "\n",
    "\t\t# initialize our list of input images along with the output image\n",
    "\t\t# after *combining* the four input images\n",
    "\t\tinputImages = []\n",
    "\t\toutputImage = np.zeros((64, 64, 3), dtype=\"uint8\")\n",
    "\n",
    "\t\t# loop over the input house paths\n",
    "\t\tfor housePath in housePaths:\n",
    "\t\t\t# load the input image, resize it to be 32 32, and then\n",
    "\t\t\t# update the list of input images\n",
    "\t\t\timage = cv2.imread(housePath)\n",
    "\t\t\timage = cv2.resize(image, (32, 32))\n",
    "\t\t\tinputImages.append(image)\n",
    "\n",
    "\t\t# tile the four input images in the output image such the first\n",
    "\t\t# image goes in the top-right corner, the second image in the\n",
    "\t\t# top-left corner, the third image in the bottom-right corner,\n",
    "\t\t# and the final image in the bottom-left corner\n",
    "\t\toutputImage[0:32, 0:32] = inputImages[0]\n",
    "\t\toutputImage[0:32, 32:64] = inputImages[1]\n",
    "\t\toutputImage[32:64, 32:64] = inputImages[2]\n",
    "\t\toutputImage[32:64, 0:32] = inputImages[3]\n",
    "\n",
    "\t\t# add the tiled image to our set of images the network will be\n",
    "\t\t# trained on\n",
    "\t\timages.append(outputImage)\n",
    "\n",
    "\t# return our set of images\n",
    "\treturn np.array(images)"
   ]
  },
  {
   "cell_type": "code",
   "execution_count": 3,
   "metadata": {
    "_uuid": "e5533bd502a82061b743b02e2ade9912705e9c64",
    "execution": {
     "iopub.execute_input": "2021-08-15T04:41:36.058716Z",
     "iopub.status.busy": "2021-08-15T04:41:36.058286Z",
     "iopub.status.idle": "2021-08-15T04:41:39.083654Z",
     "shell.execute_reply": "2021-08-15T04:41:39.082659Z",
     "shell.execute_reply.started": "2021-08-15T04:41:36.058642Z"
    },
    "pycharm": {
     "is_executing": true
    }
   },
   "outputs": [
    {
     "name": "stdout",
     "output_type": "stream",
     "text": [
      "[INFO] loading house attributes...\n"
     ]
    }
   ],
   "source": [
    "# import the necessary packages\n",
    "from tensorflow.keras.optimizers import Adam\n",
    "from sklearn.model_selection import train_test_split\n",
    "import numpy as np\n",
    "import os\n",
    "\n",
    "# construct the path to the input .txt file that contains information\n",
    "# on each house in the dataset and then load the dataset\n",
    "print(\"[INFO] loading house attributes...\")\n",
    "inputPath = os.path.sep.join([\"G:/PDF document/UAP Semester/for 4-1/CSE 410(Software Developement)/House Price Forecast/repository/emanhamed-Houses-dataset-41e7392/Houses Dataset\",\"HousesInfo.txt\"]) \n",
    "df = load_house_attributes(inputPath)"
   ]
  },
  {
   "cell_type": "code",
   "execution_count": 4,
   "metadata": {
    "_uuid": "0b3fc0b9df083bd51d647884bcbf08c2957f28d3",
    "execution": {
     "iopub.execute_input": "2021-08-15T04:41:39.087361Z",
     "iopub.status.busy": "2021-08-15T04:41:39.087051Z",
     "iopub.status.idle": "2021-08-15T04:41:59.472082Z",
     "shell.execute_reply": "2021-08-15T04:41:59.471028Z",
     "shell.execute_reply.started": "2021-08-15T04:41:39.087307Z"
    },
    "pycharm": {
     "is_executing": true
    }
   },
   "outputs": [
    {
     "name": "stdout",
     "output_type": "stream",
     "text": [
      "[INFO] loading house images...\n"
     ]
    }
   ],
   "source": [
    "# load the house images and then scale the pixel intensities to the\n",
    "# range [0, 1]\n",
    "print(\"[INFO] loading house images...\")\n",
    "images = load_house_images(df, \"G:/PDF document/UAP Semester/for 4-1/CSE 410(Software Developement)/House Price Forecast/repository/emanhamed-Houses-dataset-41e7392/Houses Dataset/\")\n",
    "images = images / 255.0"
   ]
  },
  {
   "cell_type": "code",
   "execution_count": 5,
   "metadata": {
    "_uuid": "9a1cf1719a5b76ffcf9d2e231d16df8ee696803d",
    "execution": {
     "iopub.execute_input": "2021-08-15T04:41:59.474536Z",
     "iopub.status.busy": "2021-08-15T04:41:59.474142Z",
     "iopub.status.idle": "2021-08-15T04:41:59.514135Z",
     "shell.execute_reply": "2021-08-15T04:41:59.513112Z",
     "shell.execute_reply.started": "2021-08-15T04:41:59.474493Z"
    },
    "pycharm": {
     "is_executing": true
    }
   },
   "outputs": [],
   "source": [
    "# partition the data into training and testing splits using 75% of\n",
    "# the data for training and the remaining 25% for testing\n",
    "split = train_test_split(df, images, test_size=0.25, random_state=42)\n",
    "(trainAttrX, testAttrX, trainImagesX, testImagesX) = split"
   ]
  },
  {
   "cell_type": "code",
   "execution_count": 6,
   "metadata": {
    "_uuid": "d59829521eb54c907bfd68b66e24eb6e50cda845",
    "execution": {
     "iopub.execute_input": "2021-08-15T04:41:59.515751Z",
     "iopub.status.busy": "2021-08-15T04:41:59.515486Z",
     "iopub.status.idle": "2021-08-15T04:41:59.642018Z",
     "shell.execute_reply": "2021-08-15T04:41:59.641344Z",
     "shell.execute_reply.started": "2021-08-15T04:41:59.515699Z"
    },
    "pycharm": {
     "is_executing": true
    }
   },
   "outputs": [],
   "source": [
    "# find the largest house price in the training set and use it to\n",
    "# scale our house prices to the range [0, 1] (will lead to better\n",
    "# training and convergence)\n",
    "maxPrice = trainAttrX[\"price\"].max()\n",
    "trainY = trainAttrX[\"price\"] / maxPrice\n",
    "testY = testAttrX[\"price\"] / maxPrice"
   ]
  },
  {
   "cell_type": "markdown",
   "metadata": {
    "_uuid": "0fefeef4145a9625f78bb695523acbff7391adec"
   },
   "source": [
    "Build CNN Model"
   ]
  },
  {
   "cell_type": "code",
   "execution_count": 7,
   "metadata": {
    "_uuid": "903c36598095bfd10d724ad865d1003d2d3bbed5",
    "execution": {
     "iopub.execute_input": "2021-08-15T04:41:59.643468Z",
     "iopub.status.busy": "2021-08-15T04:41:59.643069Z",
     "iopub.status.idle": "2021-08-15T04:41:59.656053Z",
     "shell.execute_reply": "2021-08-15T04:41:59.654769Z",
     "shell.execute_reply.started": "2021-08-15T04:41:59.643422Z"
    },
    "pycharm": {
     "is_executing": true
    }
   },
   "outputs": [],
   "source": [
    "# import the necessary packages\n",
    "from keras.models import Sequential\n",
    "from tensorflow.keras.layers import BatchNormalization\n",
    "from keras.layers.convolutional import Conv2D\n",
    "from keras.layers.convolutional import MaxPooling2D\n",
    "from keras.layers.core import Activation\n",
    "from keras.layers.core import Dropout\n",
    "from keras.layers.core import Dense\n",
    "from keras.layers import Flatten\n",
    "from keras.layers import Input\n",
    "from keras.models import Model\n",
    "\n",
    "def create_mlp(dim, regress=False):\n",
    "\t# define our MLP network\n",
    "\tmodel = Sequential()\n",
    "\tmodel.add(Dense(8, input_dim=dim, activation=\"relu\"))\n",
    "\tmodel.add(Dense(4, activation=\"relu\"))\n",
    "\n",
    "\t# check to see if the regression node should be added\n",
    "\tif regress:\n",
    "\t\tmodel.add(Dense(1, activation=\"linear\"))\n",
    "\n",
    "\t# return our model\n",
    "\treturn model\n",
    "\n",
    "def create_cnn(width, height, depth, filters=(16, 32, 64), regress=False):\n",
    "\t# initialize the input shape and channel dimension, assuming\n",
    "\t# TensorFlow/channels-last ordering\n",
    "\tinputShape = (height, width, depth)\n",
    "\tchanDim = -1\n",
    "\n",
    "\t# define the model input\n",
    "\tinputs = Input(shape=inputShape)\n",
    "\n",
    "\t# loop over the number of filters\n",
    "\tfor (i, f) in enumerate(filters):\n",
    "\t\t# if this is the first CONV layer then set the input\n",
    "\t\t# appropriately\n",
    "\t\tif i == 0:\n",
    "\t\t\tx = inputs\n",
    "\n",
    "\t\t# CONV => RELU => BN => POOL\n",
    "\t\tx = Conv2D(f, (3, 3), padding=\"same\")(x)\n",
    "\t\tx = Activation(\"relu\")(x)\n",
    "\t\tx = BatchNormalization(axis=chanDim)(x)\n",
    "\t\tx = MaxPooling2D(pool_size=(2, 2))(x)\n",
    "\n",
    "\t# flatten the volume, then FC => RELU => BN => DROPOUT\n",
    "\tx = Flatten()(x)\n",
    "\tx = Dense(16)(x)\n",
    "\tx = Activation(\"relu\")(x)\n",
    "\tx = BatchNormalization(axis=chanDim)(x)\n",
    "\tx = Dropout(0.5)(x)\n",
    "\n",
    "\t# apply another FC layer, this one to match the number of nodes\n",
    "\t# coming out of the MLP\n",
    "\tx = Dense(4)(x)\n",
    "\tx = Activation(\"relu\")(x)\n",
    "\n",
    "\t# check to see if the regression node should be added\n",
    "\tif regress:\n",
    "\t\tx = Dense(1, activation=\"linear\")(x)\n",
    "\n",
    "\t# construct the CNN\n",
    "\tmodel = Model(inputs, x)\n",
    "\n",
    "\t# return the CNN\n",
    "\treturn model"
   ]
  },
  {
   "cell_type": "code",
   "execution_count": 8,
   "metadata": {
    "_uuid": "c38d4a68cad395c1baba1da35643b26df6df1a1b",
    "execution": {
     "iopub.execute_input": "2021-08-15T04:41:59.660829Z",
     "iopub.status.busy": "2021-08-15T04:41:59.660538Z",
     "iopub.status.idle": "2021-08-15T04:42:00.313898Z",
     "shell.execute_reply": "2021-08-15T04:42:00.312851Z",
     "shell.execute_reply.started": "2021-08-15T04:41:59.660784Z"
    },
    "pycharm": {
     "is_executing": true
    }
   },
   "outputs": [
    {
     "name": "stderr",
     "output_type": "stream",
     "text": [
      "c:\\users\\notebook\\appdata\\local\\programs\\python\\python39\\lib\\site-packages\\keras\\optimizer_v2\\optimizer_v2.py:355: UserWarning: The `lr` argument is deprecated, use `learning_rate` instead.\n",
      "  warnings.warn(\n"
     ]
    }
   ],
   "source": [
    "# create our Convolutional Neural Network and then compile the model\n",
    "# using mean absolute percentage error as our loss, implying that we\n",
    "# seek to minimize the absolute percentage difference between our\n",
    "# price *predictions* and the *actual prices*\n",
    "model = create_cnn(64, 64, 3, regress=True)\n",
    "opt = Adam(lr=1e-3, decay=1e-3 / 200)\n",
    "model.compile(loss=\"mean_absolute_percentage_error\", optimizer=opt)"
   ]
  },
  {
   "cell_type": "code",
   "execution_count": 9,
   "metadata": {
    "_uuid": "d99c721442ea83c99226a5239293170893ddef52",
    "execution": {
     "iopub.execute_input": "2021-08-15T04:42:00.315876Z",
     "iopub.status.busy": "2021-08-15T04:42:00.315515Z",
     "iopub.status.idle": "2021-08-15T04:49:10.338640Z",
     "shell.execute_reply": "2021-08-15T04:49:10.337857Z",
     "shell.execute_reply.started": "2021-08-15T04:42:00.315803Z"
    },
    "pycharm": {
     "is_executing": true
    }
   },
   "outputs": [
    {
     "name": "stdout",
     "output_type": "stream",
     "text": [
      "[INFO] training model...\n",
      "Epoch 1/200\n",
      "34/34 [==============================] - 3s 51ms/step - loss: 2346.2532 - val_loss: 799.1578\n",
      "Epoch 2/200\n",
      "34/34 [==============================] - 1s 42ms/step - loss: 1636.3772 - val_loss: 1235.7181\n",
      "Epoch 3/200\n",
      "34/34 [==============================] - 1s 42ms/step - loss: 1097.8918 - val_loss: 1205.7747\n",
      "Epoch 4/200\n",
      "34/34 [==============================] - 2s 52ms/step - loss: 864.3076 - val_loss: 806.1713\n",
      "Epoch 5/200\n",
      "34/34 [==============================] - 1s 44ms/step - loss: 641.1299 - val_loss: 729.9063\n",
      "Epoch 6/200\n",
      "34/34 [==============================] - 2s 45ms/step - loss: 734.8239 - val_loss: 1454.8031\n",
      "Epoch 7/200\n",
      "34/34 [==============================] - 2s 49ms/step - loss: 603.4762 - val_loss: 1665.1080\n",
      "Epoch 8/200\n",
      "34/34 [==============================] - 2s 47ms/step - loss: 419.7309 - val_loss: 1952.1035\n",
      "Epoch 9/200\n",
      "34/34 [==============================] - 2s 46ms/step - loss: 459.0436 - val_loss: 1702.6029\n",
      "Epoch 10/200\n",
      "34/34 [==============================] - 1s 42ms/step - loss: 447.4515 - val_loss: 928.7505\n",
      "Epoch 11/200\n",
      "34/34 [==============================] - 1s 42ms/step - loss: 303.8947 - val_loss: 491.8504\n",
      "Epoch 12/200\n",
      "34/34 [==============================] - 1s 42ms/step - loss: 318.7806 - val_loss: 429.1745\n",
      "Epoch 13/200\n",
      "34/34 [==============================] - 1s 42ms/step - loss: 329.3290 - val_loss: 242.1022\n",
      "Epoch 14/200\n",
      "34/34 [==============================] - 1s 43ms/step - loss: 242.5286 - val_loss: 138.1847\n",
      "Epoch 15/200\n",
      "34/34 [==============================] - 1s 42ms/step - loss: 227.1050 - val_loss: 109.1791\n",
      "Epoch 16/200\n",
      "34/34 [==============================] - 1s 42ms/step - loss: 233.2615 - val_loss: 107.0868\n",
      "Epoch 17/200\n",
      "34/34 [==============================] - 1s 43ms/step - loss: 172.2804 - val_loss: 105.1783\n",
      "Epoch 18/200\n",
      "34/34 [==============================] - 2s 48ms/step - loss: 216.0621 - val_loss: 100.6367\n",
      "Epoch 19/200\n",
      "34/34 [==============================] - 2s 57ms/step - loss: 190.9217 - val_loss: 95.9074\n",
      "Epoch 20/200\n",
      "34/34 [==============================] - 2s 49ms/step - loss: 159.0048 - val_loss: 89.5014\n",
      "Epoch 21/200\n",
      "34/34 [==============================] - 1s 44ms/step - loss: 146.9545 - val_loss: 94.3027\n",
      "Epoch 22/200\n",
      "34/34 [==============================] - 1s 43ms/step - loss: 135.7681 - val_loss: 111.0494\n",
      "Epoch 23/200\n",
      "34/34 [==============================] - 2s 45ms/step - loss: 131.9049 - val_loss: 105.2950\n",
      "Epoch 24/200\n",
      "34/34 [==============================] - 1s 44ms/step - loss: 115.0526 - val_loss: 115.9123\n",
      "Epoch 25/200\n",
      "34/34 [==============================] - 1s 43ms/step - loss: 107.3374 - val_loss: 103.4804\n",
      "Epoch 26/200\n",
      "34/34 [==============================] - 1s 42ms/step - loss: 137.2864 - val_loss: 88.6579\n",
      "Epoch 27/200\n",
      "34/34 [==============================] - 1s 43ms/step - loss: 99.6944 - val_loss: 84.2328\n",
      "Epoch 28/200\n",
      "34/34 [==============================] - 1s 43ms/step - loss: 90.2304 - val_loss: 79.6140\n",
      "Epoch 29/200\n",
      "34/34 [==============================] - 1s 42ms/step - loss: 87.5391 - val_loss: 75.1246\n",
      "Epoch 30/200\n",
      "34/34 [==============================] - 1s 43ms/step - loss: 101.9988 - val_loss: 77.4960\n",
      "Epoch 31/200\n",
      "34/34 [==============================] - 1s 43ms/step - loss: 99.8415 - val_loss: 79.7185\n",
      "Epoch 32/200\n",
      "34/34 [==============================] - 1s 43ms/step - loss: 90.7941 - val_loss: 74.7938\n",
      "Epoch 33/200\n",
      "34/34 [==============================] - 1s 43ms/step - loss: 79.7245 - val_loss: 74.1512\n",
      "Epoch 34/200\n",
      "34/34 [==============================] - 1s 42ms/step - loss: 82.2379 - val_loss: 74.3049\n",
      "Epoch 35/200\n",
      "34/34 [==============================] - 1s 42ms/step - loss: 75.2495 - val_loss: 73.6294\n",
      "Epoch 36/200\n",
      "34/34 [==============================] - 1s 43ms/step - loss: 71.9715 - val_loss: 75.4982\n",
      "Epoch 37/200\n",
      "34/34 [==============================] - 1s 43ms/step - loss: 78.3261 - val_loss: 76.3241\n",
      "Epoch 38/200\n",
      "34/34 [==============================] - 1s 43ms/step - loss: 64.5514 - val_loss: 75.7755\n",
      "Epoch 39/200\n",
      "34/34 [==============================] - 1s 43ms/step - loss: 83.1721 - val_loss: 132.6581\n",
      "Epoch 40/200\n",
      "34/34 [==============================] - 1s 42ms/step - loss: 69.5160 - val_loss: 88.2925\n",
      "Epoch 41/200\n",
      "34/34 [==============================] - 1s 43ms/step - loss: 80.7260 - val_loss: 80.8084\n",
      "Epoch 42/200\n",
      "34/34 [==============================] - 1s 43ms/step - loss: 83.6212 - val_loss: 80.1722\n",
      "Epoch 43/200\n",
      "34/34 [==============================] - 1s 43ms/step - loss: 69.3210 - val_loss: 79.2878\n",
      "Epoch 44/200\n",
      "34/34 [==============================] - 1s 44ms/step - loss: 68.5795 - val_loss: 76.0406\n",
      "Epoch 45/200\n",
      "34/34 [==============================] - 1s 43ms/step - loss: 70.4643 - val_loss: 74.3415\n",
      "Epoch 46/200\n",
      "34/34 [==============================] - 1s 42ms/step - loss: 65.7456 - val_loss: 72.8461\n",
      "Epoch 47/200\n",
      "34/34 [==============================] - 1s 42ms/step - loss: 67.7990 - val_loss: 73.9117\n",
      "Epoch 48/200\n",
      "34/34 [==============================] - 1s 43ms/step - loss: 68.2576 - val_loss: 73.2017\n",
      "Epoch 49/200\n",
      "34/34 [==============================] - 1s 43ms/step - loss: 67.4429 - val_loss: 71.4628\n",
      "Epoch 50/200\n",
      "34/34 [==============================] - 1s 43ms/step - loss: 60.7437 - val_loss: 70.8009\n",
      "Epoch 51/200\n",
      "34/34 [==============================] - 1s 42ms/step - loss: 61.6939 - val_loss: 72.7012\n",
      "Epoch 52/200\n",
      "34/34 [==============================] - 1s 42ms/step - loss: 60.7016 - val_loss: 71.5291\n",
      "Epoch 53/200\n",
      "34/34 [==============================] - 1s 43ms/step - loss: 60.3241 - val_loss: 70.6309\n",
      "Epoch 54/200\n",
      "34/34 [==============================] - 1s 42ms/step - loss: 57.6142 - val_loss: 70.5830\n",
      "Epoch 55/200\n",
      "34/34 [==============================] - 1s 44ms/step - loss: 62.7957 - val_loss: 70.6479\n",
      "Epoch 56/200\n",
      "34/34 [==============================] - 1s 43ms/step - loss: 61.3919 - val_loss: 69.9409\n",
      "Epoch 57/200\n",
      "34/34 [==============================] - 2s 46ms/step - loss: 57.7507 - val_loss: 70.5515\n",
      "Epoch 58/200\n",
      "34/34 [==============================] - 2s 45ms/step - loss: 52.9176 - val_loss: 71.9709\n",
      "Epoch 59/200\n",
      "34/34 [==============================] - 1s 43ms/step - loss: 58.1323 - val_loss: 73.0306\n",
      "Epoch 60/200\n",
      "34/34 [==============================] - 1s 43ms/step - loss: 56.5902 - val_loss: 72.3835\n",
      "Epoch 61/200\n",
      "34/34 [==============================] - 1s 43ms/step - loss: 57.3081 - val_loss: 71.8653\n",
      "Epoch 62/200\n",
      "34/34 [==============================] - 1s 43ms/step - loss: 62.5664 - val_loss: 70.7993\n",
      "Epoch 63/200\n",
      "34/34 [==============================] - 1s 44ms/step - loss: 58.4645 - val_loss: 67.8020\n",
      "Epoch 64/200\n",
      "34/34 [==============================] - 1s 43ms/step - loss: 56.3938 - val_loss: 66.9976\n",
      "Epoch 65/200\n",
      "34/34 [==============================] - 1s 43ms/step - loss: 62.3338 - val_loss: 66.7143\n",
      "Epoch 66/200\n",
      "34/34 [==============================] - 1s 43ms/step - loss: 57.3972 - val_loss: 65.9176\n",
      "Epoch 67/200\n",
      "34/34 [==============================] - 1s 43ms/step - loss: 57.3264 - val_loss: 62.4041\n",
      "Epoch 68/200\n",
      "34/34 [==============================] - 1s 43ms/step - loss: 54.0112 - val_loss: 62.1425\n",
      "Epoch 69/200\n",
      "34/34 [==============================] - 1s 43ms/step - loss: 57.6399 - val_loss: 59.5362\n",
      "Epoch 70/200\n",
      "34/34 [==============================] - 1s 43ms/step - loss: 56.3024 - val_loss: 59.8292\n",
      "Epoch 71/200\n",
      "34/34 [==============================] - 1s 43ms/step - loss: 54.7877 - val_loss: 58.1388\n",
      "Epoch 72/200\n",
      "34/34 [==============================] - 1s 44ms/step - loss: 53.5595 - val_loss: 58.9249\n",
      "Epoch 73/200\n",
      "34/34 [==============================] - 2s 46ms/step - loss: 55.9691 - val_loss: 60.0140\n",
      "Epoch 74/200\n",
      "34/34 [==============================] - 2s 46ms/step - loss: 53.4497 - val_loss: 58.7695\n",
      "Epoch 75/200\n",
      "34/34 [==============================] - 2s 45ms/step - loss: 56.9103 - val_loss: 58.3885\n",
      "Epoch 76/200\n",
      "34/34 [==============================] - 1s 44ms/step - loss: 56.0998 - val_loss: 62.0563\n",
      "Epoch 77/200\n",
      "34/34 [==============================] - 1s 43ms/step - loss: 53.9411 - val_loss: 60.2173\n",
      "Epoch 78/200\n",
      "34/34 [==============================] - 1s 43ms/step - loss: 51.8885 - val_loss: 59.6750\n",
      "Epoch 79/200\n",
      "34/34 [==============================] - 1s 44ms/step - loss: 52.9077 - val_loss: 59.9004\n"
     ]
    },
    {
     "name": "stdout",
     "output_type": "stream",
     "text": [
      "Epoch 80/200\n",
      "34/34 [==============================] - 1s 44ms/step - loss: 59.7030 - val_loss: 59.5689\n",
      "Epoch 81/200\n",
      "34/34 [==============================] - 1s 43ms/step - loss: 48.4461 - val_loss: 60.2195\n",
      "Epoch 82/200\n",
      "34/34 [==============================] - 1s 43ms/step - loss: 56.5570 - val_loss: 60.3846\n",
      "Epoch 83/200\n",
      "34/34 [==============================] - 1s 44ms/step - loss: 50.8589 - val_loss: 58.0011\n",
      "Epoch 84/200\n",
      "34/34 [==============================] - 1s 44ms/step - loss: 51.8707 - val_loss: 60.5131\n",
      "Epoch 85/200\n",
      "34/34 [==============================] - 1s 43ms/step - loss: 53.1549 - val_loss: 58.5241\n",
      "Epoch 86/200\n",
      "34/34 [==============================] - 1s 43ms/step - loss: 53.6314 - val_loss: 58.1710\n",
      "Epoch 87/200\n",
      "34/34 [==============================] - 1s 42ms/step - loss: 52.0929 - val_loss: 57.6636\n",
      "Epoch 88/200\n",
      "34/34 [==============================] - 1s 43ms/step - loss: 52.3192 - val_loss: 59.7823\n",
      "Epoch 89/200\n",
      "34/34 [==============================] - 1s 43ms/step - loss: 48.4913 - val_loss: 57.8138\n",
      "Epoch 90/200\n",
      "34/34 [==============================] - 2s 46ms/step - loss: 50.7679 - val_loss: 57.2104\n",
      "Epoch 91/200\n",
      "34/34 [==============================] - 1s 43ms/step - loss: 50.2516 - val_loss: 56.7199\n",
      "Epoch 92/200\n",
      "34/34 [==============================] - 1s 44ms/step - loss: 53.7689 - val_loss: 56.1970\n",
      "Epoch 93/200\n",
      "34/34 [==============================] - 1s 43ms/step - loss: 47.9688 - val_loss: 57.1232\n",
      "Epoch 94/200\n",
      "34/34 [==============================] - 1s 42ms/step - loss: 50.0083 - val_loss: 55.4831\n",
      "Epoch 95/200\n",
      "34/34 [==============================] - 1s 43ms/step - loss: 47.5896 - val_loss: 55.3107\n",
      "Epoch 96/200\n",
      "34/34 [==============================] - 1s 43ms/step - loss: 46.4208 - val_loss: 55.4299\n",
      "Epoch 97/200\n",
      "34/34 [==============================] - 1s 43ms/step - loss: 49.4387 - val_loss: 55.8405\n",
      "Epoch 98/200\n",
      "34/34 [==============================] - 1s 43ms/step - loss: 51.0783 - val_loss: 57.1003\n",
      "Epoch 99/200\n",
      "34/34 [==============================] - 1s 42ms/step - loss: 47.5739 - val_loss: 54.2260\n",
      "Epoch 100/200\n",
      "34/34 [==============================] - 1s 43ms/step - loss: 48.5384 - val_loss: 54.4164\n",
      "Epoch 101/200\n",
      "34/34 [==============================] - 1s 42ms/step - loss: 48.1847 - val_loss: 54.8549\n",
      "Epoch 102/200\n",
      "34/34 [==============================] - 1s 43ms/step - loss: 51.4109 - val_loss: 55.7662\n",
      "Epoch 103/200\n",
      "34/34 [==============================] - 1s 44ms/step - loss: 46.7764 - val_loss: 56.9510\n",
      "Epoch 104/200\n",
      "34/34 [==============================] - 1s 43ms/step - loss: 45.7601 - val_loss: 53.9965\n",
      "Epoch 105/200\n",
      "34/34 [==============================] - 1s 44ms/step - loss: 49.4056 - val_loss: 55.8597\n",
      "Epoch 106/200\n",
      "34/34 [==============================] - 1s 44ms/step - loss: 47.3165 - val_loss: 57.1280\n",
      "Epoch 107/200\n",
      "34/34 [==============================] - 1s 43ms/step - loss: 49.7547 - val_loss: 55.2138\n",
      "Epoch 108/200\n",
      "34/34 [==============================] - 1s 43ms/step - loss: 44.0205 - val_loss: 56.5818\n",
      "Epoch 109/200\n",
      "34/34 [==============================] - 1s 43ms/step - loss: 44.1392 - val_loss: 55.9163\n",
      "Epoch 110/200\n",
      "34/34 [==============================] - 1s 44ms/step - loss: 46.4566 - val_loss: 56.2979\n",
      "Epoch 111/200\n",
      "34/34 [==============================] - 1s 43ms/step - loss: 45.3774 - val_loss: 58.0031\n",
      "Epoch 112/200\n",
      "34/34 [==============================] - 1s 43ms/step - loss: 46.7706 - val_loss: 58.1113\n",
      "Epoch 113/200\n",
      "34/34 [==============================] - 1s 43ms/step - loss: 46.8066 - val_loss: 59.2640\n",
      "Epoch 114/200\n",
      "34/34 [==============================] - 1s 42ms/step - loss: 42.5456 - val_loss: 62.0813\n",
      "Epoch 115/200\n",
      "34/34 [==============================] - 1s 42ms/step - loss: 47.7061 - val_loss: 59.3666\n",
      "Epoch 116/200\n",
      "34/34 [==============================] - 1s 42ms/step - loss: 44.2201 - val_loss: 57.9398\n",
      "Epoch 117/200\n",
      "34/34 [==============================] - 1s 42ms/step - loss: 44.8736 - val_loss: 58.3871\n",
      "Epoch 118/200\n",
      "34/34 [==============================] - 1s 43ms/step - loss: 43.8437 - val_loss: 57.1688\n",
      "Epoch 119/200\n",
      "34/34 [==============================] - 1s 43ms/step - loss: 46.3297 - val_loss: 56.3304\n",
      "Epoch 120/200\n",
      "34/34 [==============================] - 1s 42ms/step - loss: 46.9393 - val_loss: 57.0206\n",
      "Epoch 121/200\n",
      "34/34 [==============================] - 1s 43ms/step - loss: 47.8158 - val_loss: 55.4164\n",
      "Epoch 122/200\n",
      "34/34 [==============================] - 1s 43ms/step - loss: 50.5280 - val_loss: 60.2149\n",
      "Epoch 123/200\n",
      "34/34 [==============================] - 1s 43ms/step - loss: 47.3528 - val_loss: 68.9341\n",
      "Epoch 124/200\n",
      "34/34 [==============================] - 1s 43ms/step - loss: 43.1420 - val_loss: 62.5711\n",
      "Epoch 125/200\n",
      "34/34 [==============================] - 1s 42ms/step - loss: 45.2570 - val_loss: 56.6750\n",
      "Epoch 126/200\n",
      "34/34 [==============================] - 1s 42ms/step - loss: 45.0049 - val_loss: 55.2768\n",
      "Epoch 127/200\n",
      "34/34 [==============================] - 2s 44ms/step - loss: 43.3197 - val_loss: 50.0118\n",
      "Epoch 128/200\n",
      "34/34 [==============================] - 1s 43ms/step - loss: 43.4181 - val_loss: 49.5019\n",
      "Epoch 129/200\n",
      "34/34 [==============================] - 1s 42ms/step - loss: 43.9855 - val_loss: 51.9533\n",
      "Epoch 130/200\n",
      "34/34 [==============================] - 1s 43ms/step - loss: 44.4919 - val_loss: 54.8122\n",
      "Epoch 131/200\n",
      "34/34 [==============================] - 2s 44ms/step - loss: 41.5405 - val_loss: 52.9796\n",
      "Epoch 132/200\n",
      "34/34 [==============================] - 1s 44ms/step - loss: 40.3282 - val_loss: 57.3105\n",
      "Epoch 133/200\n",
      "34/34 [==============================] - 1s 44ms/step - loss: 44.3397 - val_loss: 53.0555\n",
      "Epoch 134/200\n",
      "34/34 [==============================] - 1s 43ms/step - loss: 40.4660 - val_loss: 56.2110\n",
      "Epoch 135/200\n",
      "34/34 [==============================] - 1s 42ms/step - loss: 42.7321 - val_loss: 54.7244\n",
      "Epoch 136/200\n",
      "34/34 [==============================] - 2s 45ms/step - loss: 42.2785 - val_loss: 54.1897\n",
      "Epoch 137/200\n",
      "34/34 [==============================] - 1s 42ms/step - loss: 41.6377 - val_loss: 55.8664\n",
      "Epoch 138/200\n",
      "34/34 [==============================] - 1s 43ms/step - loss: 40.5233 - val_loss: 57.4046\n",
      "Epoch 139/200\n",
      "34/34 [==============================] - 1s 43ms/step - loss: 40.0253 - val_loss: 57.9699\n",
      "Epoch 140/200\n",
      "34/34 [==============================] - 1s 42ms/step - loss: 42.1899 - val_loss: 50.5371\n",
      "Epoch 141/200\n",
      "34/34 [==============================] - 1s 43ms/step - loss: 40.9170 - val_loss: 50.2334\n",
      "Epoch 142/200\n",
      "34/34 [==============================] - 1s 43ms/step - loss: 39.3700 - val_loss: 51.2463\n",
      "Epoch 143/200\n",
      "34/34 [==============================] - 1s 43ms/step - loss: 40.3761 - val_loss: 54.3307\n",
      "Epoch 144/200\n",
      "34/34 [==============================] - 1s 43ms/step - loss: 40.4633 - val_loss: 52.1114\n",
      "Epoch 145/200\n",
      "34/34 [==============================] - 1s 43ms/step - loss: 42.3061 - val_loss: 54.0034\n",
      "Epoch 146/200\n",
      "34/34 [==============================] - 1s 43ms/step - loss: 38.8968 - val_loss: 53.1974\n",
      "Epoch 147/200\n",
      "34/34 [==============================] - 1s 43ms/step - loss: 42.8244 - val_loss: 50.7151\n",
      "Epoch 148/200\n",
      "34/34 [==============================] - 1s 43ms/step - loss: 39.8724 - val_loss: 51.3075\n",
      "Epoch 149/200\n",
      "34/34 [==============================] - ETA: 0s - loss: 39.80 - 1s 43ms/step - loss: 39.9646 - val_loss: 51.0656\n",
      "Epoch 150/200\n",
      "34/34 [==============================] - 1s 43ms/step - loss: 39.2763 - val_loss: 54.1919\n",
      "Epoch 151/200\n",
      "34/34 [==============================] - 1s 44ms/step - loss: 40.5349 - val_loss: 53.8026\n",
      "Epoch 152/200\n",
      "34/34 [==============================] - 1s 44ms/step - loss: 37.4693 - val_loss: 51.7281\n",
      "Epoch 153/200\n",
      "34/34 [==============================] - 1s 43ms/step - loss: 37.2626 - val_loss: 51.1747\n",
      "Epoch 154/200\n",
      "34/34 [==============================] - 1s 43ms/step - loss: 40.2980 - val_loss: 50.4624\n",
      "Epoch 155/200\n",
      "34/34 [==============================] - 1s 43ms/step - loss: 34.1042 - val_loss: 49.5876\n",
      "Epoch 156/200\n",
      "34/34 [==============================] - 1s 43ms/step - loss: 39.5619 - val_loss: 49.8160\n",
      "Epoch 157/200\n",
      "34/34 [==============================] - 1s 43ms/step - loss: 38.6311 - val_loss: 50.3733\n",
      "Epoch 158/200\n"
     ]
    },
    {
     "name": "stdout",
     "output_type": "stream",
     "text": [
      "34/34 [==============================] - 2s 45ms/step - loss: 37.8872 - val_loss: 50.0793\n",
      "Epoch 159/200\n",
      "34/34 [==============================] - 1s 43ms/step - loss: 36.8215 - val_loss: 50.5198\n",
      "Epoch 160/200\n",
      "34/34 [==============================] - 1s 44ms/step - loss: 36.1788 - val_loss: 52.1699\n",
      "Epoch 161/200\n",
      "34/34 [==============================] - 1s 43ms/step - loss: 37.4304 - val_loss: 51.2627\n",
      "Epoch 162/200\n",
      "34/34 [==============================] - 1s 43ms/step - loss: 37.8616 - val_loss: 48.9820\n",
      "Epoch 163/200\n",
      "34/34 [==============================] - 1s 42ms/step - loss: 36.0975 - val_loss: 51.1786\n",
      "Epoch 164/200\n",
      "34/34 [==============================] - 1s 42ms/step - loss: 38.5720 - val_loss: 51.9264\n",
      "Epoch 165/200\n",
      "34/34 [==============================] - 1s 43ms/step - loss: 37.4478 - val_loss: 50.3951\n",
      "Epoch 166/200\n",
      "34/34 [==============================] - 1s 43ms/step - loss: 37.0032 - val_loss: 50.8804\n",
      "Epoch 167/200\n",
      "34/34 [==============================] - 1s 43ms/step - loss: 34.9364 - val_loss: 52.5737\n",
      "Epoch 168/200\n",
      "34/34 [==============================] - 1s 43ms/step - loss: 39.3142 - val_loss: 51.5693\n",
      "Epoch 169/200\n",
      "34/34 [==============================] - 1s 43ms/step - loss: 40.6416 - val_loss: 51.8240\n",
      "Epoch 170/200\n",
      "34/34 [==============================] - 1s 43ms/step - loss: 37.8276 - val_loss: 51.5823\n",
      "Epoch 171/200\n",
      "34/34 [==============================] - 1s 43ms/step - loss: 38.6616 - val_loss: 50.8153\n",
      "Epoch 172/200\n",
      "34/34 [==============================] - 2s 47ms/step - loss: 36.0744 - val_loss: 51.2951\n",
      "Epoch 173/200\n",
      "34/34 [==============================] - 2s 45ms/step - loss: 40.6710 - val_loss: 51.6828\n",
      "Epoch 174/200\n",
      "34/34 [==============================] - 1s 43ms/step - loss: 38.6509 - val_loss: 53.5559\n",
      "Epoch 175/200\n",
      "34/34 [==============================] - 1s 44ms/step - loss: 37.7392 - val_loss: 55.6112\n",
      "Epoch 176/200\n",
      "34/34 [==============================] - 1s 43ms/step - loss: 36.0911 - val_loss: 56.0753\n",
      "Epoch 177/200\n",
      "34/34 [==============================] - 1s 43ms/step - loss: 37.1200 - val_loss: 54.8262\n",
      "Epoch 178/200\n",
      "34/34 [==============================] - 2s 46ms/step - loss: 34.8847 - val_loss: 52.5043\n",
      "Epoch 179/200\n",
      "34/34 [==============================] - 1s 43ms/step - loss: 35.5737 - val_loss: 49.4762\n",
      "Epoch 180/200\n",
      "34/34 [==============================] - 1s 43ms/step - loss: 37.8124 - val_loss: 49.3675\n",
      "Epoch 181/200\n",
      "34/34 [==============================] - 1s 43ms/step - loss: 38.4778 - val_loss: 55.1135\n",
      "Epoch 182/200\n",
      "34/34 [==============================] - 1s 43ms/step - loss: 38.7961 - val_loss: 50.8719\n",
      "Epoch 183/200\n",
      "34/34 [==============================] - 1s 44ms/step - loss: 36.8252 - val_loss: 51.4176\n",
      "Epoch 184/200\n",
      "34/34 [==============================] - 1s 43ms/step - loss: 38.4546 - val_loss: 53.6978\n",
      "Epoch 185/200\n",
      "34/34 [==============================] - 1s 43ms/step - loss: 37.1584 - val_loss: 53.7590\n",
      "Epoch 186/200\n",
      "34/34 [==============================] - 1s 43ms/step - loss: 41.1635 - val_loss: 77.5073\n",
      "Epoch 187/200\n",
      "34/34 [==============================] - 1s 43ms/step - loss: 37.7476 - val_loss: 50.3974\n",
      "Epoch 188/200\n",
      "34/34 [==============================] - 1s 43ms/step - loss: 37.2471 - val_loss: 51.2709\n",
      "Epoch 189/200\n",
      "34/34 [==============================] - 1s 42ms/step - loss: 36.7283 - val_loss: 52.3465\n",
      "Epoch 190/200\n",
      "34/34 [==============================] - 1s 43ms/step - loss: 33.8741 - val_loss: 54.3850\n",
      "Epoch 191/200\n",
      "34/34 [==============================] - 1s 43ms/step - loss: 37.7749 - val_loss: 50.7920\n",
      "Epoch 192/200\n",
      "34/34 [==============================] - 1s 42ms/step - loss: 36.7476 - val_loss: 49.4895\n",
      "Epoch 193/200\n",
      "34/34 [==============================] - 1s 43ms/step - loss: 36.4108 - val_loss: 57.8024\n",
      "Epoch 194/200\n",
      "34/34 [==============================] - 1s 42ms/step - loss: 34.7651 - val_loss: 50.2165\n",
      "Epoch 195/200\n",
      "34/34 [==============================] - 1s 43ms/step - loss: 38.1063 - val_loss: 49.1161\n",
      "Epoch 196/200\n",
      "34/34 [==============================] - 1s 43ms/step - loss: 32.3395 - val_loss: 64.8283\n",
      "Epoch 197/200\n",
      "34/34 [==============================] - 1s 43ms/step - loss: 34.1529 - val_loss: 56.4246\n",
      "Epoch 198/200\n",
      "34/34 [==============================] - 1s 43ms/step - loss: 35.7000 - val_loss: 51.3822\n",
      "Epoch 199/200\n",
      "34/34 [==============================] - 1s 43ms/step - loss: 35.1153 - val_loss: 53.1484\n",
      "Epoch 200/200\n",
      "34/34 [==============================] - 1s 42ms/step - loss: 34.2320 - val_loss: 48.5593\n"
     ]
    },
    {
     "data": {
      "text/plain": [
       "<keras.callbacks.History at 0x21aedc3b2e0>"
      ]
     },
     "execution_count": 9,
     "metadata": {},
     "output_type": "execute_result"
    }
   ],
   "source": [
    "# train the model\n",
    "print(\"[INFO] training model...\")\n",
    "model.fit(trainImagesX, trainY, validation_data=(testImagesX, testY),\n",
    "\tepochs=200, batch_size=8)"
   ]
  },
  {
   "cell_type": "code",
   "execution_count": 10,
   "metadata": {
    "_uuid": "322bfa4f96566a9a2c3d31d5a853e0eba6e76ae0",
    "execution": {
     "iopub.execute_input": "2021-08-15T04:49:10.340095Z",
     "iopub.status.busy": "2021-08-15T04:49:10.339712Z",
     "iopub.status.idle": "2021-08-15T04:49:10.721083Z",
     "shell.execute_reply": "2021-08-15T04:49:10.720084Z",
     "shell.execute_reply.started": "2021-08-15T04:49:10.340055Z"
    },
    "pycharm": {
     "is_executing": true
    }
   },
   "outputs": [
    {
     "name": "stdout",
     "output_type": "stream",
     "text": [
      "[INFO] predicting house prices...\n",
      "[INFO] avg. house price: $533,388.27, std house price: $493,403.08\n"
     ]
    }
   ],
   "source": [
    "# make predictions on the testing data\n",
    "print(\"[INFO] predicting house prices...\")\n",
    "preds = model.predict(testImagesX)\n",
    "\n",
    "# compute the difference between the *predicted* house prices and the\n",
    "# *actual* house prices, then compute the percentage difference and\n",
    "# the absolute percentage difference\n",
    "diff = preds.flatten() - testY\n",
    "percentDiff = (diff / testY) * 100\n",
    "absPercentDiff = np.abs(percentDiff)\n",
    "\n",
    "# compute the mean and standard deviation of the absolute percentage\n",
    "# difference\n",
    "mean = np.mean(absPercentDiff)\n",
    "std = np.std(absPercentDiff)\n",
    "\n",
    "# finally, show some statistics on our model\n",
    "from babel.numbers import format_currency\n",
    "print(\"[INFO] avg. house price: {}, std house price: {}\".format(\n",
    "\tformat_currency(df[\"price\"].mean(), 'USD', locale='en_US'),\n",
    "\tformat_currency(df[\"price\"].std(), 'USD', locale='en_US')))"
   ]
  },
  {
   "cell_type": "markdown",
   "metadata": {
    "_uuid": "0b2702b4af696ea0d205964615932bceddbcc27c"
   },
   "source": [
    "While our training loss is 38.64% our validation loss is at 58.45%, implying that, on average, our network will be ~58% off in its house price predictions."
   ]
  }
 ],
 "metadata": {
  "kernelspec": {
   "display_name": "Python 3 (ipykernel)",
   "language": "python",
   "name": "python3"
  },
  "language_info": {
   "codemirror_mode": {
    "name": "ipython",
    "version": 3
   },
   "file_extension": ".py",
   "mimetype": "text/x-python",
   "name": "python",
   "nbconvert_exporter": "python",
   "pygments_lexer": "ipython3",
   "version": "3.9.1"
  }
 },
 "nbformat": 4,
 "nbformat_minor": 4
}
